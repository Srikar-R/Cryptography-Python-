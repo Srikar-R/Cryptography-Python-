{
 "cells": [
  {
   "cell_type": "markdown",
   "metadata": {},
   "source": [
    "# Barcode Scanner"
   ]
  },
  {
   "cell_type": "code",
   "execution_count": 45,
   "metadata": {},
   "outputs": [],
   "source": [
    "def barcode(n):\n",
    "    sumOdd = 0\n",
    "    sumEven = 0\n",
    "     \n",
    "    num = str(n)\n",
    "     \n",
    "    for i in range(len(num)):\n",
    "        if(i % 2 == 0):\n",
    "            sumOdd = sumOdd+int(num[i])\n",
    "        else:\n",
    "            sumEven = sumEven+int(num[i])\n",
    "    if (sumOdd+sumEven*3)%10==0:\n",
    "        print(\"Accepted by computer\")\n",
    "    else:\n",
    "        print(\"Not accepted by computer\")\n",
    " \n",
    "     "
   ]
  },
  {
   "cell_type": "code",
   "execution_count": 46,
   "metadata": {},
   "outputs": [
    {
     "name": "stdout",
     "output_type": "stream",
     "text": [
      "Accepted by computer\n"
     ]
    }
   ],
   "source": [
    "barcode(36000261509)"
   ]
  },
  {
   "cell_type": "markdown",
   "metadata": {},
   "source": [
    "# Pseudorandom numbers"
   ]
  },
  {
   "cell_type": "code",
   "execution_count": 35,
   "metadata": {},
   "outputs": [],
   "source": [
    "import random as random\n",
    "\n",
    "C=['Heart','Diamond','Clubs','Spade']\n",
    "\n"
   ]
  },
  {
   "cell_type": "code",
   "execution_count": 33,
   "metadata": {},
   "outputs": [
    {
     "name": "stdout",
     "output_type": "stream",
     "text": [
      "Enter how many random cards you want to draw5\n",
      "[{'Clubs': [2]}, {'Diamond': [3]}, {'Diamond': [6]}, {'Diamond': [10]}, {'Spade': [8]}]\n"
     ]
    }
   ],
   "source": [
    "#1\n",
    "\n",
    "n=abs(int(input(\"Enter how many random cards you want to draw\")))\n",
    "M=[]\n",
    "for i in range(1,n+1):\n",
    "    A={random.choice(C):[random.randrange(1,13)]}\n",
    "    M.append(A)\n",
    "print(M)"
   ]
  },
  {
   "cell_type": "code",
   "execution_count": 34,
   "metadata": {},
   "outputs": [
    {
     "name": "stdout",
     "output_type": "stream",
     "text": [
      "Enter how many random cards you want to draw5\n",
      "[{'Clubs': [9]}, {'Diamond': [6]}, {'Clubs': [8]}, {'Diamond': [1]}, {'Spade': [2]}]\n"
     ]
    }
   ],
   "source": [
    "#2\n",
    "\n",
    "n=abs(int(input(\"Enter how many random cards you want to draw\")))\n",
    "M=[]\n",
    "for i in range(1,n+1):\n",
    "    A={random.choice(C):[random.randrange(1,13)]}\n",
    "    M.append(A)\n",
    "print(M)"
   ]
  },
  {
   "cell_type": "markdown",
   "metadata": {},
   "source": [
    "# Hashing function"
   ]
  },
  {
   "cell_type": "code",
   "execution_count": 39,
   "metadata": {},
   "outputs": [
    {
     "name": "stdout",
     "output_type": "stream",
     "text": [
      "The byte equivalent of hash is : b'\\x18\\xc5\\xc2\\xc2\\xea\\xe0\\x15&\\xd6\\xd3^\\x15\\xc6\\x87q\\xa2'\n"
     ]
    }
   ],
   "source": [
    "import hashlib\n",
    "  \n",
    "result = hashlib.md5(b'Number theory')\n",
    "  \n",
    "\n",
    "print(\"The byte equivalent of hash is : \", end =\"\")\n",
    "print(result.digest())"
   ]
  },
  {
   "cell_type": "markdown",
   "metadata": {},
   "source": [
    "# Parity Check bits"
   ]
  },
  {
   "cell_type": "code",
   "execution_count": 65,
   "metadata": {},
   "outputs": [
    {
     "name": "stdout",
     "output_type": "stream",
     "text": [
      "Enter in binary form: 1110001\n",
      "its an even parity\n"
     ]
    }
   ],
   "source": [
    "n=int(input(\"Enter in binary form: \"))\n",
    "n1=str(n)\n",
    "ones=[]\n",
    "for i in n1:\n",
    "    if i=='1':\n",
    "        ones.append(i)\n",
    "if len(ones)%2==0:\n",
    "    n1=n1+'0'\n",
    "    print(\"its an even parity\")\n",
    "else:\n",
    "    n1=n1+'1'\n",
    "    print(\"its an odd parity\")\n",
    "\n",
    "        "
   ]
  },
  {
   "cell_type": "code",
   "execution_count": 72,
   "metadata": {},
   "outputs": [
    {
     "name": "stdout",
     "output_type": "stream",
     "text": [
      "1110011\n",
      "there is an error\n"
     ]
    }
   ],
   "source": [
    "n_1=str(1110011)\n",
    "print(n_1)\n",
    "T=[]\n",
    "for j in n_1:\n",
    "    if j=='1':\n",
    "        T.append(i)\n",
    "if n1[-1]=='1':\n",
    "    if len(T)%2!=0:\n",
    "        print(\"there is an error\")\n",
    "    else:\n",
    "        print(\"No error\")\n",
    "if n1[-1]=='0':\n",
    "    if len(T)%2==0:\n",
    "        print(\"No error\")\n",
    "    else:\n",
    "        print(\"there is an error\")"
   ]
  },
  {
   "cell_type": "markdown",
   "metadata": {},
   "source": [
    "# Caesar's Cipher"
   ]
  },
  {
   "cell_type": "markdown",
   "metadata": {},
   "source": [
    "#### Encryption"
   ]
  },
  {
   "cell_type": "code",
   "execution_count": 71,
   "metadata": {},
   "outputs": [],
   "source": [
    "def encrypt(word,k):\n",
    "    answer=\"\"\n",
    "    \n",
    "    for i in range(len(word)):\n",
    "        char=word[i]\n",
    "        \n",
    "        if char.isupper():\n",
    "            answer=answer+chr((ord(char) + k-65) % 26 + 65)\n",
    "        else:\n",
    "            answer=answer+chr((ord(char) + k- 97) % 26 + 97)\n",
    "    return answer\n"
   ]
  },
  {
   "cell_type": "code",
   "execution_count": 72,
   "metadata": {},
   "outputs": [
    {
     "data": {
      "text/plain": [
       "'RYQFIVXLISVC'"
      ]
     },
     "execution_count": 72,
     "metadata": {},
     "output_type": "execute_result"
    }
   ],
   "source": [
    "encrypt(\"NUMBERTHEORY\",4)"
   ]
  },
  {
   "cell_type": "code",
   "execution_count": 73,
   "metadata": {},
   "outputs": [
    {
     "data": {
      "text/plain": [
       "89"
      ]
     },
     "execution_count": 73,
     "metadata": {},
     "output_type": "execute_result"
    }
   ],
   "source": [
    "ord(\"Y\")"
   ]
  },
  {
   "cell_type": "code",
   "execution_count": 63,
   "metadata": {},
   "outputs": [
    {
     "data": {
      "text/plain": [
       "4"
      ]
     },
     "execution_count": 63,
     "metadata": {},
     "output_type": "execute_result"
    }
   ],
   "source": [
    "4%26"
   ]
  },
  {
   "cell_type": "code",
   "execution_count": 58,
   "metadata": {},
   "outputs": [
    {
     "data": {
      "text/plain": [
       "'A'"
      ]
     },
     "execution_count": 58,
     "metadata": {},
     "output_type": "execute_result"
    }
   ],
   "source": [
    "chr(65)"
   ]
  },
  {
   "cell_type": "markdown",
   "metadata": {},
   "source": [
    "#### Decryption"
   ]
  },
  {
   "cell_type": "code",
   "execution_count": 68,
   "metadata": {},
   "outputs": [],
   "source": [
    "def decrypt(word,k):\n",
    "    answer=\"\"\n",
    "    \n",
    "    for i in range(len(word)):\n",
    "        char=word[i]\n",
    "        \n",
    "        if char.isupper():\n",
    "            answer=answer+chr((ord(char) - k-65) % 26 + 65)\n",
    "        else:\n",
    "            answer=answer+chr((ord(char) - k- 97) % 26 + 97)\n",
    "    return answer"
   ]
  },
  {
   "cell_type": "code",
   "execution_count": 75,
   "metadata": {},
   "outputs": [
    {
     "data": {
      "text/plain": [
       "'NUMBERTHEORY'"
      ]
     },
     "execution_count": 75,
     "metadata": {},
     "output_type": "execute_result"
    }
   ],
   "source": [
    "decrypt(\"RYQFIVXLISVC\",4)"
   ]
  },
  {
   "cell_type": "code",
   "execution_count": 27,
   "metadata": {},
   "outputs": [],
   "source": [
    "def decrypt(key, message):\n",
    "    message = message.upper()\n",
    "    alpha = \"ABCDEFGHIJKLMNOPQRSTUVWXYZ\"\n",
    "    result = \"\"\n",
    "\n",
    "    for letter in message:\n",
    "        if letter in alpha: #if the letter is actually a letter\n",
    "            #find the corresponding ciphertext letter in the alphabet\n",
    "            letter_index = (alpha.find(letter) - key) % len(alpha)\n",
    "\n",
    "            result = result + alpha[letter_index]\n",
    "        else:\n",
    "            result = result + letter\n",
    "\n",
    "    return result"
   ]
  },
  {
   "cell_type": "code",
   "execution_count": 30,
   "metadata": {},
   "outputs": [
    {
     "data": {
      "text/plain": [
       "'NUMBERTHEORY'"
      ]
     },
     "execution_count": 30,
     "metadata": {},
     "output_type": "execute_result"
    }
   ],
   "source": [
    "decrypt(4,'RYQFIVXLISVC')"
   ]
  }
 ],
 "metadata": {
  "kernelspec": {
   "display_name": "Python 3",
   "language": "python",
   "name": "python3"
  },
  "language_info": {
   "codemirror_mode": {
    "name": "ipython",
    "version": 3
   },
   "file_extension": ".py",
   "mimetype": "text/x-python",
   "name": "python",
   "nbconvert_exporter": "python",
   "pygments_lexer": "ipython3",
   "version": "3.7.6"
  }
 },
 "nbformat": 4,
 "nbformat_minor": 4
}
